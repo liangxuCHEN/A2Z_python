{
 "cells": [
  {
   "cell_type": "markdown",
   "metadata": {},
   "source": [
    "### 条件判断和循环\n",
    "\n",
    "#### if语句\n",
    "\n",
    "#### 语法规则\n",
    "\n",
    "1. 语句是逐个运行\n",
    "2. 块和语句的边界自动检测\n",
    "3. 复合语句 = 首行 + “：” + 缩进语句\n",
    "4. 空白行， 空格以及注释通常都会忽略\n",
    "\n",
    "例子："
   ]
  },
  {
   "cell_type": "code",
   "execution_count": null,
   "metadata": {},
   "outputs": [],
   "source": [
    "age = 20\n",
    "if age >= 18:\n",
    "    print('your age is', age)\n",
    "    print ('adult')\n",
    "print ('END')"
   ]
  },
  {
   "cell_type": "markdown",
   "metadata": {},
   "source": [
    "注意: Python代码的缩进规则。具有相同缩进的代码被视为代码块，上面的3，4行 print 语句就构成一个代码块（但不包括第5行的print）。如果 if 语句判断为 True，就会执行这个代码块。\n",
    "\n",
    "缩进请严格按照Python的习惯写法：4个空格，不要使用Tab，更不要混合Tab和空格，否则很容易造成因为缩进引起的语法错误。\n",
    "\n",
    "注意: if 语句后接表达式，然后用:表示代码块开始。\n",
    "\n",
    "如果你在Python交互环境下敲代码，还要特别留意缩进，并且退出缩进需要多敲一行回车："
   ]
  },
  {
   "cell_type": "code",
   "execution_count": null,
   "metadata": {},
   "outputs": [],
   "source": [
    "#我们可以用 if ... 多个elif ... else ... 的结构\n",
    "if age >= 18:\n",
    "    print('adult')\n",
    "elif age >= 6:\n",
    "    print('teenager')\n",
    "elif age >= 3:\n",
    "    print ('kid')\n",
    "else:\n",
    "    print ('baby')"
   ]
  },
  {
   "cell_type": "code",
   "execution_count": null,
   "metadata": {},
   "outputs": [],
   "source": [
    "\"\"\"\n",
    "练习：\n",
    "如果按照分数划定结果：\n",
    "\n",
    "    90分或以上：excellent\n",
    "\n",
    "    80分或以上：good\n",
    "\n",
    "    60分或以上：passed\n",
    "\n",
    "    60分以下：failed\n",
    "\n",
    "请编写程序根据分数打印结果。\n",
    "\"\"\"\n",
    "score = 85\n",
    "\n",
    "if ???:\n",
    "    print 'excellent'\n",
    "elif ???:\n",
    "    print 'good'\n",
    "elif ???:\n",
    "    print 'passed'\n",
    "else:\n",
    "    print 'failed'"
   ]
  },
  {
   "cell_type": "markdown",
   "metadata": {},
   "source": [
    "### Python之 for循环"
   ]
  },
  {
   "cell_type": "code",
   "execution_count": null,
   "metadata": {},
   "outputs": [],
   "source": [
    "# list或tuple可以表示一个有序集合。如果我们想依次访问一个list中的每一个元素呢？比如 list：\n",
    "\n",
    "L = ['Adam', 'Lisa', 'Bart']\n",
    "print(L[0])\n",
    "print(L[1])\n",
    "print(L[2])"
   ]
  },
  {
   "cell_type": "markdown",
   "metadata": {},
   "source": [
    "如果list只包含几个元素，这样写还行，如果list包含1万个元素，我们就不可能写1万行print。\n",
    "\n",
    "这时，循环就派上用场了。\n",
    "\n",
    "Python的 for 循环就可以依次把list或tuple的每个元素迭代出来："
   ]
  },
  {
   "cell_type": "code",
   "execution_count": null,
   "metadata": {},
   "outputs": [],
   "source": [
    "L = ['Adam', 'Lisa', 'Bart']\n",
    "for name in L:\n",
    "    print(name)"
   ]
  },
  {
   "cell_type": "code",
   "execution_count": null,
   "metadata": {},
   "outputs": [],
   "source": [
    "# 练习： 求 L=[12,28,24,25,99]的总和\n",
    "L=[12,28,24,25,99]"
   ]
  },
  {
   "cell_type": "markdown",
   "metadata": {},
   "source": [
    "### Python之 while循环\n",
    "和 for 循环不同的另一种循环是 while 循环，while 循环不会迭代 list 或 tuple 的元素，而是根据表达式判断循环是否结束。\n",
    "\n",
    "比如要从 0 开始打印不大于 N 的整数：\n"
   ]
  },
  {
   "cell_type": "code",
   "execution_count": null,
   "metadata": {},
   "outputs": [],
   "source": [
    "N = 10\n",
    "x = 0\n",
    "while x < N:\n",
    "    print(x)\n",
    "    x = x + 1"
   ]
  },
  {
   "cell_type": "markdown",
   "metadata": {},
   "source": [
    "while循环每次先判断 x < N，如果为True，则执行循环体的代码块，否则，退出循环。\n",
    "\n",
    "在循环体内，x = x + 1 会让 x 不断增加，最终因为 x < N 不成立而退出循环。\n",
    "\n",
    "如果没有这一个语句，while循环在判断 x < N 时总是为True，就会无限循环下去，变成死循环，所以要特别留意while循环的退出条件。"
   ]
  },
  {
   "cell_type": "markdown",
   "metadata": {},
   "source": [
    "### Python之 break退出循环\n",
    "\n",
    "用 for 循环或者 while 循环时，如果要在循环体内直接退出循环，可以使用 break 语句。\n",
    "\n",
    "比如计算1至100的整数和，我们用while来实现："
   ]
  },
  {
   "cell_type": "code",
   "execution_count": null,
   "metadata": {},
   "outputs": [],
   "source": [
    "sum = 0\n",
    "x = 1\n",
    "while True:\n",
    "    sum = sum + x\n",
    "    x = x + 1\n",
    "    if x > 100:\n",
    "        print('退出循环',x)\n",
    "        break\n",
    "print(sum)"
   ]
  },
  {
   "cell_type": "code",
   "execution_count": null,
   "metadata": {},
   "outputs": [],
   "source": [
    "# 练习：计算 1 + 2 + 4 + 8 + 16 + ... 的前20项的和\n",
    "sum = 0\n",
    "x = 1\n",
    "n = 1\n",
    "while True:\n",
    "    ???\n",
    "print(sum)"
   ]
  },
  {
   "cell_type": "markdown",
   "metadata": {},
   "source": [
    "### Python之 continue继续循环\n",
    "\n",
    "在循环过程中，可以用break退出当前循环，还可以用continue跳过后续循环代码，继续下一次循环。"
   ]
  },
  {
   "cell_type": "code",
   "execution_count": null,
   "metadata": {},
   "outputs": [],
   "source": [
    "L = [75, 98, 59, 81, 66, 43, 69, 85]\n",
    "sum = 0.0\n",
    "n = 0\n",
    "for x in L:\n",
    "    sum = sum + x\n",
    "    n = n + 1\n",
    "print(sum / n)"
   ]
  },
  {
   "cell_type": "markdown",
   "metadata": {},
   "source": [
    "现在老师只想统计及格分数的平均分，就要把 x < 60 的分数剔除掉，\n",
    "\n",
    "这时，利用 continue，可以做到当 x < 60的时候，\n",
    "\n",
    "不继续执行循环体的后续代码，直接进入下一次循环："
   ]
  },
  {
   "cell_type": "code",
   "execution_count": null,
   "metadata": {},
   "outputs": [],
   "source": [
    "for x in L:\n",
    "    if x < 60:\n",
    "        print('忽略的成绩', x)\n",
    "        continue\n",
    "    sum = sum + x\n",
    "    n = n + 1\n",
    "print(sum / n)"
   ]
  },
  {
   "cell_type": "code",
   "execution_count": null,
   "metadata": {},
   "outputs": [],
   "source": [
    "# 改写下面程序，计算0-100的奇数和\n",
    "sum = 0\n",
    "for i in range(0, 101):\n",
    "    sum += i\n",
    "print(sum)"
   ]
  },
  {
   "cell_type": "markdown",
   "metadata": {},
   "source": [
    "### Python之 多重循环"
   ]
  },
  {
   "cell_type": "code",
   "execution_count": null,
   "metadata": {},
   "outputs": [],
   "source": [
    "for x in ['A', 'B', 'C']:\n",
    "    for y in ['1', '2', '3']:\n",
    "        print (x + y)"
   ]
  },
  {
   "cell_type": "code",
   "execution_count": null,
   "metadata": {
    "collapsed": true
   },
   "outputs": [],
   "source": [
    "\"\"\"\n",
    "对100以内的两位数，请使用一个两重循环打印出所有十位数数字比个位数数字小的数，例如，23（2 < 3）\n",
    "\"\"\"\n",
    "for x in [ ??? ]:\n",
    "    for y in [ ??? ]:\n",
    "        ???"
   ]
  }
 ],
 "metadata": {
  "kernelspec": {
   "display_name": "Python 3",
   "language": "python",
   "name": "python3"
  },
  "language_info": {
   "codemirror_mode": {
    "name": "ipython",
    "version": 3
   },
   "file_extension": ".py",
   "mimetype": "text/x-python",
   "name": "python",
   "nbconvert_exporter": "python",
   "pygments_lexer": "ipython3",
   "version": "3.6.5"
  }
 },
 "nbformat": 4,
 "nbformat_minor": 2
}
